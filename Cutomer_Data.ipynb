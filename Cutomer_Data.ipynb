{
 "cells": [
  {
   "cell_type": "markdown",
   "id": "fcf85368",
   "metadata": {},
   "source": [
    "# You have a dataset named customer_data.csv that contains information about customers. The dataset has columns customer_id, age, gender, email, and purchases. Write a Python script to read the dataset, perform data cleaning by removing duplicates and handling missing values, and then calculate the average number of purchases for each gender."
   ]
  },
  {
   "cell_type": "code",
   "execution_count": 1,
   "id": "46b53044",
   "metadata": {},
   "outputs": [
    {
     "name": "stdout",
     "output_type": "stream",
     "text": [
      "gender\n",
      "F     4.20\n",
      "M    11.25\n",
      "Name: purchases, dtype: float64\n"
     ]
    }
   ],
   "source": [
    "import pandas as pd\n",
    "\n",
    "df = pd.read_csv('customer_data.csv')\n",
    "\n",
    "df.drop_duplicates(inplace=True)\n",
    "\n",
    "df['purchases'].fillna(0, inplace=True)\n",
    "\n",
    "average_purchases_by_gender = df.groupby('gender')['purchases'].mean()\n",
    "\n",
    "# Print the result\n",
    "print(average_purchases_by_gender)\n"
   ]
  }
 ],
 "metadata": {
  "kernelspec": {
   "display_name": "Python 3 (ipykernel)",
   "language": "python",
   "name": "python3"
  },
  "language_info": {
   "codemirror_mode": {
    "name": "ipython",
    "version": 3
   },
   "file_extension": ".py",
   "mimetype": "text/x-python",
   "name": "python",
   "nbconvert_exporter": "python",
   "pygments_lexer": "ipython3",
   "version": "3.9.12"
  }
 },
 "nbformat": 4,
 "nbformat_minor": 5
}
